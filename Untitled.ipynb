{
 "cells": [
  {
   "cell_type": "code",
   "execution_count": 72,
   "metadata": {},
   "outputs": [],
   "source": [
    "import numpy as np\n",
    "\n",
    "import simulation\n",
    "import environment\n",
    "from motion import ray_trace_polygon"
   ]
  },
  {
   "cell_type": "code",
   "execution_count": 78,
   "metadata": {},
   "outputs": [],
   "source": [
    "sim = simulation.Simulation(pop_size = 500)\n",
    "\n",
    "pop = np.copy(sim.population)"
   ]
  },
  {
   "cell_type": "code",
   "execution_count": 79,
   "metadata": {},
   "outputs": [],
   "source": [
    "provinces = environment.load_province_data()\n",
    "country = environment.build_country(provinces)"
   ]
  },
  {
   "cell_type": "code",
   "execution_count": 80,
   "metadata": {},
   "outputs": [],
   "source": [
    "def populate_provinces(country, population, spread=[1.0]):\n",
    "   \n",
    "    assert len(country) == len(spread), 'error: number of provinces in country needs \\\n",
    "to equal lengh of \"spread\"!'\n",
    "\n",
    "    if type(spread[0]) == float:\n",
    "        #do something with proportions\n",
    "        assert sum(spread) == 1, 'error: when using proportions, \"spread\" needs to equal 1'\n",
    "        \n",
    "        st_idx = 0\n",
    "        i = 0\n",
    "        for province in country.keys():\n",
    "            prov_x = [np.min(country[province][:,0]), np.max(country[province][:,0])]\n",
    "            prov_y = [np.min(country[province][:,1]), np.max(country[province][:,1])]\n",
    "            \n",
    "            print(prov_x)\n",
    "            print(prov_y)\n",
    "            \n",
    "            #slice pop\n",
    "            sliced = population[st_idx:st_idx + int(len(population) * spread[i])]\n",
    "            to_change = sliced[~ray_trace_polygon(sliced[:,1], sliced[:,2], country[province])]\n",
    "                       \n",
    "            while len(to_change) > 0:\n",
    "                #keep generating new random coords for those outside bounds until all are in\n",
    "                mask = ~ray_trace_polygon(sliced[:,1], sliced[:,2], country[province])\n",
    "                to_change = sliced[mask]\n",
    "                \n",
    "                x_coords = (np.ptp(prov_x) * np.random.random(size=(len(to_change)))) + prov_x[0]\n",
    "                y_coords = (np.ptp(prov_y) * np.random.random(size=(len(to_change)))) + prov_y[0]\n",
    "\n",
    "                \n",
    "                to_change[:,1] = x_coords\n",
    "                to_change[:,2] = y_coords\n",
    "                \n",
    "                sliced[mask] = to_change\n",
    "                \n",
    "            #reinsert into population\n",
    "            population[st_idx:st_idx + int(len(population) * spread[i])] = sliced\n",
    "            \n",
    "            #set start index to slice length minus 1\n",
    "            st_idx = len(sliced) - 1        \n",
    "                \n",
    "    elif type(spread[0]) == int:\n",
    "        #do something with absolute numbers\n",
    "        assert sum(spread) == len(population), 'error: length of population table is different \\\n",
    "from the sum of \"spread\", these need to match!'\n",
    "        \n",
    "        pass\n",
    "    \n",
    "    return population"
   ]
  },
  {
   "cell_type": "code",
   "execution_count": 81,
   "metadata": {
    "scrolled": false
   },
   "outputs": [
    {
     "name": "stdout",
     "output_type": "stream",
     "text": [
      "[0.195714, 0.767143]\n",
      "[0.03, 0.954271]\n"
     ]
    }
   ],
   "source": [
    "pop2 = populate_provinces(country, pop)"
   ]
  },
  {
   "cell_type": "code",
   "execution_count": 90,
   "metadata": {},
   "outputs": [
    {
     "data": {
      "image/png": "[encoded data removed]",
      "text/plain": [
       "<Figure size 432x432 with 1 Axes>"
      ]
     },
     "metadata": {
      "needs_background": "light"
     },
     "output_type": "display_data"
    }
   ],
   "source": [
    "import matplotlib.pyplot as plt\n",
    "\n",
    "plt.figure(figsize=(6,6))\n",
    "plt.plot(provinces['noordholland'][:,0], provinces['noordholland'][:,1], color='black')\n",
    "plt.scatter(pop2[:,1], pop2[:,2], s=2)\n",
    "plt.xlim(0,1)\n",
    "plt.ylim(0,1)\n",
    "\n",
    "plt.show()\n",
    "\n"
   ]
  },
  {
   "cell_type": "code",
   "execution_count": 88,
   "metadata": {},
   "outputs": [
    {
     "data": {
      "text/plain": [
       "array([0.70199258, 0.661259  , 0.67686125, 0.61777712, 0.31013869,\n",
       "       0.3163166 , 0.38283968, 0.489643  , 0.21871002, 0.4410336 ,\n",
       "       0.20865471, 0.67287251, 0.69454842, 0.58656045, 0.32256651,\n",
       "       0.26372291, 0.5386374 , 0.21708054, 0.57985512, 0.47609304,\n",
       "       0.38697527, 0.68911231, 0.29168298, 0.7355619 , 0.37604341,\n",
       "       0.30215281, 0.23578762, 0.27883214, 0.51605118, 0.63421877,\n",
       "       0.51035732, 0.51036312, 0.67866976, 0.56416126, 0.76390141,\n",
       "       0.6915332 , 0.41052524, 0.76013927, 0.4219752 , 0.32908634,\n",
       "       0.28585289, 0.26448618, 0.55762361, 0.20502067, 0.55322308,\n",
       "       0.69456223, 0.31067197, 0.54388989, 0.37679271, 0.31383574,\n",
       "       0.56076095, 0.3615127 , 0.51469204, 0.73912898, 0.4798107 ,\n",
       "       0.48543497, 0.33916265, 0.23710753, 0.53058106, 0.72126635,\n",
       "       0.7647335 , 0.65095145, 0.42790666, 0.32625926, 0.60824299,\n",
       "       0.66253648, 0.3109469 , 0.69614237, 0.54537532, 0.45436297,\n",
       "       0.38600508, 0.37452608, 0.3829455 , 0.64676012, 0.52411848,\n",
       "       0.27390322, 0.40452133, 0.69575048, 0.62711933, 0.64528864,\n",
       "       0.57911271, 0.43964473, 0.44160201, 0.49681433, 0.40410931,\n",
       "       0.4818757 , 0.23456334, 0.51591962, 0.19619629, 0.30290541,\n",
       "       0.22613034, 0.61795442, 0.51572725, 0.70283345, 0.45232409,\n",
       "       0.26226384, 0.54947597, 0.66603475, 0.74699989, 0.44788743])"
      ]
     },
     "execution_count": 88,
     "metadata": {},
     "output_type": "execute_result"
    }
   ],
   "source": [
    "prov_x = [0.195714, 0.767143]\n",
    "\n",
    "(np.ptp(prov_x) * np.random.random(size=(100,))) + prov_x[0]"
   ]
  },
  {
   "cell_type": "code",
   "execution_count": null,
   "metadata": {},
   "outputs": [],
   "source": []
  }
 ],
 "metadata": {
  "kernelspec": {
   "display_name": "Python 3",
   "language": "python",
   "name": "python3"
  },
  "language_info": {
   "codemirror_mode": {
    "name": "ipython",
    "version": 3
   },
   "file_extension": ".py",
   "mimetype": "text/x-python",
   "name": "python",
   "nbconvert_exporter": "python",
   "pygments_lexer": "ipython3",
   "version": "3.7.7"
  }
 },
 "nbformat": 4,
 "nbformat_minor": 4
}
