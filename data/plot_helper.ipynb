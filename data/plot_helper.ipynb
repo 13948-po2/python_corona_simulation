{
 "cells": [
  {
   "cell_type": "code",
   "execution_count": 1,
   "metadata": {},
   "outputs": [],
   "source": [
    "import matplotlib.pyplot as plt\n",
    "import numpy as np"
   ]
  },
  {
   "cell_type": "code",
   "execution_count": 113,
   "metadata": {},
   "outputs": [],
   "source": [
    "pop = 'density_variation/high'\n",
    "\n",
    "x99 = np.load('%s/0.99/infected.npy' %pop)\n",
    "x95 = np.load('%s/0.95/infected.npy' %pop)\n",
    "x9 = np.load('%s/0.9/infected.npy' %pop)\n",
    "x8 = np.load('%s/0.8/infected.npy' %pop)\n",
    "x7 = np.load('%s/0.7/infected.npy' %pop)\n",
    "x6 = np.load('%s/0.6/infected.npy' %pop)\n",
    "x5 = np.load('%s/0.5/infected.npy' %pop)\n",
    "x25 = np.load('%s/0.25/infected.npy' %pop)\n",
    "x0 = np.load('%s/0/infected.npy' %pop)\n",
    "\n",
    "d99 = np.load('%s/0.99/fatalities.npy' %pop)\n",
    "d95 = np.load('%s/0.95/fatalities.npy' %pop)\n",
    "d9 = np.load('%s/0.9/fatalities.npy' %pop)\n",
    "d8 = np.load('%s/0.8/fatalities.npy' %pop)\n",
    "d7 = np.load('%s/0.7/fatalities.npy' %pop)\n",
    "d6 = np.load('%s/0.6/fatalities.npy' %pop)\n",
    "d5 = np.load('%s/0.5/fatalities.npy' %pop)\n",
    "d25 = np.load('%s/0.25/fatalities.npy' %pop)\n",
    "d0 = np.load('%s/0/fatalities.npy' %pop)"
   ]
  },
  {
   "cell_type": "code",
   "execution_count": 115,
   "metadata": {},
   "outputs": [],
   "source": [
    "%matplotlib qt\n",
    "\n",
    "plt.figure(figsize=(12,8))\n",
    "\n",
    "plt.subplot(211)\n",
    "plt.plot(x99, label='99%, max cases: ' + '%i' %np.max(x95))\n",
    "plt.plot(x95, label='95%, max cases: ' + '%i' %np.max(x95))\n",
    "plt.plot(x9, label='90%, max cases: ' + '%i' %np.max(x9))\n",
    "plt.plot(x8, label='80%, max cases: ' + '%i' %np.max(x8))\n",
    "plt.plot(x7, label='70%, max cases: ' + '%i' %np.max(x7))\n",
    "plt.plot(x6, label='60%, max cases: ' + '%i' %np.max(x6))\n",
    "plt.plot(x5, label='50%, max cases: ' + '%i' %np.max(x5))\n",
    "plt.plot(x25, label='25%, max cases: ' + '%i' %np.max(x25))\n",
    "plt.plot(x0, label='0%, max cases: ' + '%i' %np.max(x0))\n",
    "\n",
    "plt.title('effect of compliance to self-isolation on infections. Population density: high')\n",
    "plt.xlabel('simulation time steps')\n",
    "plt.ylabel('number of infected')\n",
    "plt.ylim(0, 2000)\n",
    "\n",
    "plt.legend()\n",
    "\n",
    "plt.subplot(212)\n",
    "plt.plot(d99, label='99%, max fatalities: ' + '%i' %np.max(d95))\n",
    "plt.plot(d95, label='95%, max fatalities: ' + '%i' %np.max(d95))\n",
    "plt.plot(d9, label='90%, max fatalities: ' + '%i' %np.max(d9))\n",
    "plt.plot(d8, label='80%, max fatalities: ' + '%i' %np.max(d8))\n",
    "plt.plot(d7, label='70%, max fatalities: ' + '%i' %np.max(d7))\n",
    "plt.plot(d6, label='60%, max fatalities: ' + '%i' %np.max(d6))\n",
    "plt.plot(d5, label='50%, max fatalities: ' + '%i' %np.max(d5))\n",
    "plt.plot(d25, label='25%, max fatalities: ' + '%i' %np.max(d25))\n",
    "plt.plot(d0, label='0%, max fatalities: ' + '%i' %np.max(d0))\n",
    "\n",
    "plt.title('effect of compliance to self-isolation on fatalities. Population density: high')\n",
    "plt.xlabel('simulation time steps')\n",
    "plt.ylabel('number of fatalities')\n",
    "plt.ylim(0, 220)\n",
    "\n",
    "plt.legend()\n",
    "\n",
    "\n",
    "plt.tight_layout()\n",
    "plt.show()\n"
   ]
  },
  {
   "cell_type": "code",
   "execution_count": 43,
   "metadata": {},
   "outputs": [],
   "source": []
  },
  {
   "cell_type": "code",
   "execution_count": null,
   "metadata": {},
   "outputs": [],
   "source": []
  }
 ],
 "metadata": {
  "kernelspec": {
   "display_name": "Python 3",
   "language": "python",
   "name": "python3"
  },
  "language_info": {
   "codemirror_mode": {
    "name": "ipython",
    "version": 3
   },
   "file_extension": ".py",
   "mimetype": "text/x-python",
   "name": "python",
   "nbconvert_exporter": "python",
   "pygments_lexer": "ipython3",
   "version": "3.7.5"
  }
 },
 "nbformat": 4,
 "nbformat_minor": 2
}
