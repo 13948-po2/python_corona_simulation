{
 "cells": [
  {
   "cell_type": "code",
   "execution_count": 3,
   "metadata": {},
   "outputs": [],
   "source": [
    "import pandas as pd\n",
    "import matplotlib.pyplot as plt\n",
    "import numpy as np"
   ]
  },
  {
   "cell_type": "code",
   "execution_count": 5,
   "metadata": {},
   "outputs": [],
   "source": [
    "df = pd.read_csv('province_boundaries_nl.csv')"
   ]
  },
  {
   "cell_type": "code",
   "execution_count": 6,
   "metadata": {},
   "outputs": [
    {
     "data": {
      "text/html": [
       "<div>\n",
       "<style scoped>\n",
       "    .dataframe tbody tr th:only-of-type {\n",
       "        vertical-align: middle;\n",
       "    }\n",
       "\n",
       "    .dataframe tbody tr th {\n",
       "        vertical-align: top;\n",
       "    }\n",
       "\n",
       "    .dataframe thead th {\n",
       "        text-align: right;\n",
       "    }\n",
       "</style>\n",
       "<table border=\"1\" class=\"dataframe\">\n",
       "  <thead>\n",
       "    <tr style=\"text-align: right;\">\n",
       "      <th></th>\n",
       "      <th>FID</th>\n",
       "      <th>SHAPE</th>\n",
       "      <th>CBS_CODE</th>\n",
       "      <th>PROV_NAAM</th>\n",
       "      <th>OBJECTID</th>\n",
       "    </tr>\n",
       "  </thead>\n",
       "  <tbody>\n",
       "    <tr>\n",
       "      <th>0</th>\n",
       "      <td>B1_Provinciegrenzen_van_Nederland.1</td>\n",
       "      <td>POLYGON ((166000 609500, 163493.04 608559.89, ...</td>\n",
       "      <td>2</td>\n",
       "      <td>Friesland</td>\n",
       "      <td>1</td>\n",
       "    </tr>\n",
       "    <tr>\n",
       "      <th>1</th>\n",
       "      <td>B1_Provinciegrenzen_van_Nederland.2</td>\n",
       "      <td>POLYGON ((101235.45 510060.27, 101223 509995, ...</td>\n",
       "      <td>7</td>\n",
       "      <td>Noord-Holland</td>\n",
       "      <td>2</td>\n",
       "    </tr>\n",
       "    <tr>\n",
       "      <th>2</th>\n",
       "      <td>B1_Provinciegrenzen_van_Nederland.3</td>\n",
       "      <td>POLYGON ((170028.343 445109.103, 170046.564 44...</td>\n",
       "      <td>5</td>\n",
       "      <td>Gelderland</td>\n",
       "      <td>3</td>\n",
       "    </tr>\n",
       "    <tr>\n",
       "      <th>3</th>\n",
       "      <td>B1_Provinciegrenzen_van_Nederland.4</td>\n",
       "      <td>POLYGON ((223906.541 555883.385, 223970.946 55...</td>\n",
       "      <td>3</td>\n",
       "      <td>Drenthe</td>\n",
       "      <td>4</td>\n",
       "    </tr>\n",
       "    <tr>\n",
       "      <th>4</th>\n",
       "      <td>B1_Provinciegrenzen_van_Nederland.5</td>\n",
       "      <td>POLYGON ((121128.562 463852.646, 121134.863 46...</td>\n",
       "      <td>6</td>\n",
       "      <td>Utrecht</td>\n",
       "      <td>5</td>\n",
       "    </tr>\n",
       "    <tr>\n",
       "      <th>5</th>\n",
       "      <td>B1_Provinciegrenzen_van_Nederland.6</td>\n",
       "      <td>POLYGON ((183893.796 341247.943, 183854.29 341...</td>\n",
       "      <td>11</td>\n",
       "      <td>Limburg</td>\n",
       "      <td>6</td>\n",
       "    </tr>\n",
       "    <tr>\n",
       "      <th>6</th>\n",
       "      <td>B1_Provinciegrenzen_van_Nederland.7</td>\n",
       "      <td>POLYGON ((153237.54 520920.31, 153066.95 52102...</td>\n",
       "      <td>12</td>\n",
       "      <td>Flevoland</td>\n",
       "      <td>7</td>\n",
       "    </tr>\n",
       "    <tr>\n",
       "      <th>7</th>\n",
       "      <td>B1_Provinciegrenzen_van_Nederland.8</td>\n",
       "      <td>POLYGON ((23205.42 400019.76, 21021.43 404838....</td>\n",
       "      <td>9</td>\n",
       "      <td>Zeeland</td>\n",
       "      <td>8</td>\n",
       "    </tr>\n",
       "    <tr>\n",
       "      <th>8</th>\n",
       "      <td>B1_Provinciegrenzen_van_Nederland.9</td>\n",
       "      <td>MULTIPOLYGON (((142358.861 416946.4, 142260.86...</td>\n",
       "      <td>10</td>\n",
       "      <td>Noord-Brabant</td>\n",
       "      <td>9</td>\n",
       "    </tr>\n",
       "    <tr>\n",
       "      <th>9</th>\n",
       "      <td>B1_Provinciegrenzen_van_Nederland.10</td>\n",
       "      <td>POLYGON ((72558 453255, 72500 453192.857, 7232...</td>\n",
       "      <td>8</td>\n",
       "      <td>Zuid-Holland</td>\n",
       "      <td>10</td>\n",
       "    </tr>\n",
       "    <tr>\n",
       "      <th>10</th>\n",
       "      <td>B1_Provinciegrenzen_van_Nederland.11</td>\n",
       "      <td>POLYGON ((204118.188 494995.02, 204140.723 494...</td>\n",
       "      <td>4</td>\n",
       "      <td>Overijssel</td>\n",
       "      <td>11</td>\n",
       "    </tr>\n",
       "    <tr>\n",
       "      <th>11</th>\n",
       "      <td>B1_Provinciegrenzen_van_Nederland.12</td>\n",
       "      <td>POLYGON ((214930.61 595370.81, 214928.792 5953...</td>\n",
       "      <td>1</td>\n",
       "      <td>Groningen</td>\n",
       "      <td>12</td>\n",
       "    </tr>\n",
       "  </tbody>\n",
       "</table>\n",
       "</div>"
      ],
      "text/plain": [
       "                                     FID  \\\n",
       "0    B1_Provinciegrenzen_van_Nederland.1   \n",
       "1    B1_Provinciegrenzen_van_Nederland.2   \n",
       "2    B1_Provinciegrenzen_van_Nederland.3   \n",
       "3    B1_Provinciegrenzen_van_Nederland.4   \n",
       "4    B1_Provinciegrenzen_van_Nederland.5   \n",
       "5    B1_Provinciegrenzen_van_Nederland.6   \n",
       "6    B1_Provinciegrenzen_van_Nederland.7   \n",
       "7    B1_Provinciegrenzen_van_Nederland.8   \n",
       "8    B1_Provinciegrenzen_van_Nederland.9   \n",
       "9   B1_Provinciegrenzen_van_Nederland.10   \n",
       "10  B1_Provinciegrenzen_van_Nederland.11   \n",
       "11  B1_Provinciegrenzen_van_Nederland.12   \n",
       "\n",
       "                                                SHAPE  CBS_CODE  \\\n",
       "0   POLYGON ((166000 609500, 163493.04 608559.89, ...         2   \n",
       "1   POLYGON ((101235.45 510060.27, 101223 509995, ...         7   \n",
       "2   POLYGON ((170028.343 445109.103, 170046.564 44...         5   \n",
       "3   POLYGON ((223906.541 555883.385, 223970.946 55...         3   \n",
       "4   POLYGON ((121128.562 463852.646, 121134.863 46...         6   \n",
       "5   POLYGON ((183893.796 341247.943, 183854.29 341...        11   \n",
       "6   POLYGON ((153237.54 520920.31, 153066.95 52102...        12   \n",
       "7   POLYGON ((23205.42 400019.76, 21021.43 404838....         9   \n",
       "8   MULTIPOLYGON (((142358.861 416946.4, 142260.86...        10   \n",
       "9   POLYGON ((72558 453255, 72500 453192.857, 7232...         8   \n",
       "10  POLYGON ((204118.188 494995.02, 204140.723 494...         4   \n",
       "11  POLYGON ((214930.61 595370.81, 214928.792 5953...         1   \n",
       "\n",
       "        PROV_NAAM  OBJECTID  \n",
       "0       Friesland         1  \n",
       "1   Noord-Holland         2  \n",
       "2      Gelderland         3  \n",
       "3         Drenthe         4  \n",
       "4         Utrecht         5  \n",
       "5         Limburg         6  \n",
       "6       Flevoland         7  \n",
       "7         Zeeland         8  \n",
       "8   Noord-Brabant         9  \n",
       "9    Zuid-Holland        10  \n",
       "10     Overijssel        11  \n",
       "11      Groningen        12  "
      ]
     },
     "execution_count": 6,
     "metadata": {},
     "output_type": "execute_result"
    }
   ],
   "source": [
    "df"
   ]
  },
  {
   "cell_type": "code",
   "execution_count": 7,
   "metadata": {
    "scrolled": false
   },
   "outputs": [
    {
     "data": {
      "text/plain": [
       "array([[166000.   , 609500.   ],\n",
       "       [163493.04 , 608559.89 ],\n",
       "       [162000.   , 608000.   ],\n",
       "       ...,\n",
       "       [175755.592, 609601.84 ],\n",
       "       [170000.   , 612000.   ],\n",
       "       [166000.   , 609500.   ]])"
      ]
     },
     "execution_count": 7,
     "metadata": {},
     "output_type": "execute_result"
    }
   ],
   "source": [
    "def parse_province(shape_data):\n",
    "    shape_data = shape_data.split('(')[-1]\n",
    "    shape_data = shape_data.split(')')[0]\n",
    "    \n",
    "    shape_list = shape_data.split(',')\n",
    "    for i in range(len(shape_list)):\n",
    "        if shape_list[i].startswith(' '):\n",
    "            shape_list[i] = shape_list[i][1:]\n",
    "            \n",
    "    shape_list = [[x.split(' ')[0], x.split(' ')[1]] for x in shape_list]\n",
    "    \n",
    "    return np.asarray(shape_list, dtype=np.float)\n",
    "    \n",
    "parse_province(df['SHAPE'][0])"
   ]
  },
  {
   "cell_type": "code",
   "execution_count": 12,
   "metadata": {
    "scrolled": false
   },
   "outputs": [
    {
     "data": {
      "image/png": "[encoded data removed]",
      "text/plain": [
       "<Figure size 432x648 with 1 Axes>"
      ]
     },
     "metadata": {
      "needs_background": "light"
     },
     "output_type": "display_data"
    },
    {
     "name": "stdout",
     "output_type": "stream",
     "text": [
      "212\n"
     ]
    },
    {
     "data": {
      "image/png": "[encoded data removed]",
      "text/plain": [
       "<Figure size 432x648 with 1 Axes>"
      ]
     },
     "metadata": {
      "needs_background": "light"
     },
     "output_type": "display_data"
    }
   ],
   "source": [
    "provincie = parse_province(df['SHAPE'][9])\n",
    "\n",
    "step = 500\n",
    "start = 0\n",
    "end = 1 * step\n",
    "\n",
    "plt.figure(figsize=(6, 9))\n",
    "i = 0\n",
    "\n",
    "lowpoly = []\n",
    "\n",
    "while end <= len(provincie):\n",
    "    \n",
    "    if np.max([np.ptp(provincie[:,0][start:end]), np.ptp(provincie[:,1][start:end])]) <= 10000:\n",
    "        plt.plot(provincie[:,0][start:end:50], \n",
    "                 provincie[:,1][start:end:50], label=i)\n",
    "        \n",
    "        for x in provincie[start:end:100]:\n",
    "            lowpoly.append(x)\n",
    "    else:\n",
    "        plt.plot(provincie[:,0][start:end:10], \n",
    "                 provincie[:,1][start:end:10], label=i)\n",
    "        \n",
    "        for x in provincie[start:end:10]:\n",
    "            lowpoly.append(x)\n",
    "    \n",
    "    start += step\n",
    "    end += step\n",
    "    i += 1\n",
    "    \n",
    "    #if i == 4:\n",
    "    #    break\n",
    "\n",
    "plt.legend()\n",
    "plt.plot(provincie[:,0][start::10],\n",
    "         provincie[:,1][start::10])\n",
    "plt.show()\n",
    "\n",
    "for x in provincie[start:end:10]:\n",
    "    lowpoly.append(x)\n",
    "    \n",
    "#add first point to last to close \n",
    "lowpoly.append(lowpoly[0])\n",
    "\n",
    "print(len(lowpoly))\n",
    "lowpoly_ar= np.asarray(lowpoly)\n",
    "\n",
    "plt.figure(figsize = (6,9))\n",
    "plt.plot(lowpoly_ar[:,0], lowpoly_ar[:,1])\n",
    "plt.show()"
   ]
  },
  {
   "cell_type": "code",
   "execution_count": 71,
   "metadata": {},
   "outputs": [],
   "source": [
    "#normalise poly to 0-1, but keep dimensions\n",
    "#find largest range\n",
    "rng = np.max([np.ptp(lowpoly_ar[:,0]), np.ptp(lowpoly_ar[:,1])])\n",
    "min_x = np.min(lowpoly_ar[:,0])\n",
    "min_y = np.min(lowpoly_ar[:,1])\n",
    "\n",
    "norm = (lowpoly_ar - np.array([min_x, min_y])) / rng\n",
    "\n",
    "norm[:,0] = ((norm[:,0] - 0.2) / 1.75) + 0.31\n",
    "norm[:,1] += 0.03"
   ]
  },
  {
   "cell_type": "code",
   "execution_count": 72,
   "metadata": {},
   "outputs": [
    {
     "data": {
      "image/png": "[encoded data removed]",
      "text/plain": [
       "<Figure size 432x432 with 1 Axes>"
      ]
     },
     "metadata": {
      "needs_background": "light"
     },
     "output_type": "display_data"
    }
   ],
   "source": [
    "plt.figure(figsize=(6,6))\n",
    "plt.plot(norm[:,0], norm[:,1])\n",
    "plt.xlim(0,1)\n",
    "plt.ylim(0,1)\n",
    "plt.show()"
   ]
  },
  {
   "cell_type": "code",
   "execution_count": 76,
   "metadata": {},
   "outputs": [],
   "source": [
    "with open('noordholland.csv', 'w') as f:\n",
    "    f.write('x,y\\n')\n",
    "    for x,y in norm:\n",
    "        f.write('%f,%f\\n' %(x, y))"
   ]
  },
  {
   "cell_type": "code",
   "execution_count": 9,
   "metadata": {},
   "outputs": [],
   "source": [
    "def ray_tracing_numpy(x,y,poly):\n",
    "    '''ray trace population relative to polygon\n",
    "    \n",
    "    Function that determines which population members are inside or\n",
    "    outside the polygon (province) in a fast way analogous to ray tracing.\n",
    "    \n",
    "    Adapted from https://stackoverflow.com/a/57999874\n",
    "    \n",
    "    Keyword arguments\n",
    "    -----------------\n",
    "    x : int, float, ndarray\n",
    "        x position(s) of population\n",
    "        \n",
    "    y : int, float, ndarray\n",
    "        y position(s) of population\n",
    "        \n",
    "    poly : ndarray\n",
    "        points describing the polygon. Lower point counts\n",
    "        dramatically affect performance, especially on larger populations\n",
    "    '''\n",
    "    \n",
    "    n = len(poly)\n",
    "    inside = np.zeros(len(x),np.bool_)\n",
    "    p2x = 0.0\n",
    "    p2y = 0.0\n",
    "    xints = 0.0\n",
    "    p1x,p1y = poly[0]\n",
    "    \n",
    "    for i in range(n+1):\n",
    "        p2x,p2y = poly[i % n]\n",
    "        idx = np.nonzero((y > min(p1y,p2y)) & (y <= max(p1y,p2y)) & (x <= max(p1x,p2x)))[0]\n",
    "    \n",
    "        if p1y != p2y:\n",
    "            xints = (y[idx]-p1y)*(p2x-p1x)/(p2y-p1y)+p1x\n",
    "        \n",
    "        if p1x == p2x:\n",
    "            inside[idx] = ~inside[idx]\n",
    "        \n",
    "        else:\n",
    "            idxx = idx[x[idx] <= xints]\n",
    "            inside[idxx] = ~inside[idxx]    \n",
    "\n",
    "        p1x,p1y = p2x,p2y\n",
    "    return inside\n",
    "\n",
    "\n",
    "pts = np.random.random(size=(10000,2))"
   ]
  },
  {
   "cell_type": "code",
   "execution_count": 18,
   "metadata": {},
   "outputs": [
    {
     "name": "stdout",
     "output_type": "stream",
     "text": [
      "average: 0.0084, min: 0.0080, max: 0.0114\n"
     ]
    }
   ],
   "source": [
    "from time import perf_counter\n",
    "\n",
    "spd = np.zeros((100,))\n",
    "pts = np.random.random(size=(10000,2))\n",
    "\n",
    "for i in range(100):\n",
    "    t1 = perf_counter()    \n",
    "    #pts = pts[(pts[:,0] <= 0.1) & (pts[:,0] >= 0.9) &\\\n",
    "    #          (pts[:,1] <= 0.1) & (pts[:,1] >= 0.8)]\n",
    "    ray_tracing_numpy(pts[:,0], pts[:,1], lowpoly_ar)\n",
    "    spd[i] = perf_counter() - t1\n",
    "    \n",
    "print('average: %.4f, min: %.4f, max: %.4f' %(np.mean(spd), np.min(spd), np.max(spd)))"
   ]
  },
  {
   "cell_type": "code",
   "execution_count": 84,
   "metadata": {},
   "outputs": [
    {
     "data": {
      "text/plain": [
       "0"
      ]
     },
     "execution_count": 84,
     "metadata": {},
     "output_type": "execute_result"
    }
   ],
   "source": [
    "len(pts[ray_tracing_numpy(pts[:,0], pts[:,1], lowpoly_ar)])"
   ]
  },
  {
   "cell_type": "code",
   "execution_count": 112,
   "metadata": {},
   "outputs": [
    {
     "data": {
      "text/plain": [
       "499999999999.99945"
      ]
     },
     "execution_count": 112,
     "metadata": {},
     "output_type": "execute_result"
    }
   ],
   "source": []
  },
  {
   "cell_type": "code",
   "execution_count": null,
   "metadata": {},
   "outputs": [],
   "source": []
  }
 ],
 "metadata": {
  "kernelspec": {
   "display_name": "Python 3",
   "language": "python",
   "name": "python3"
  },
  "language_info": {
   "codemirror_mode": {
    "name": "ipython",
    "version": 3
   },
   "file_extension": ".py",
   "mimetype": "text/x-python",
   "name": "python",
   "nbconvert_exporter": "python",
   "pygments_lexer": "ipython3",
   "version": "3.7.7"
  }
 },
 "nbformat": 4,
 "nbformat_minor": 4
}
